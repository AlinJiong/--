{
 "cells": [
  {
   "cell_type": "code",
   "execution_count": null,
   "metadata": {},
   "outputs": [],
   "source": [
    "import json \n",
    "\n",
    "s = '''\n",
    "{\"data\":{\"btc\":{\"list\":[{\"id\":\"1\",\"address\":\"34xp4vRoCGJym3xR7yCVPFHoCNxv4Twseo\",\"balance\":\"252597.22953995\",\"last_30_days_tx_count\":\"7\",\"total_tx_count\":\"727\",\"first_tx_timestamp\":\"1539867558\",\"last_tx_timestamp\":\"1647241251\",\"last_tx_balance_diff\":\"0.00010075\"},{\"id\":\"2\",\"address\":\"bc1qgdjqv0av3q56jvd82tkdjpy7gdp9ut8tlqmgrpmv24sq90ecnvqqjwvw97\",\"balance\":\"168009.98565831\",\"last_30_days_tx_count\":\"0\",\"total_tx_count\":\"90\",\"first_tx_timestamp\":\"1565949629\",\"last_tx_timestamp\":\"1647035980\",\"last_tx_balance_diff\":\"0.00000338\"},{\"id\":\"3\",\"address\":\"1P5ZEDWTKTFGxQjZphgWPQUpe554WKDfHQ\",\"balance\":\"126428.56918840\",\"last_30_days_tx_count\":\"13\",\"total_tx_count\":\"681\",\"first_tx_timestamp\":\"1549419519\",\"last_tx_timestamp\":\"1647302089\",\"last_tx_balance_diff\":\"87.00000000\"},{\"id\":\"4\",\"address\":\"3LYJfcfHPXYJreMsASk2jkn69LWEYKzexb\",\"balance\":\"116601.13654657\",\"last_30_days_tx_count\":\"0\",\"total_tx_count\":\"41\",\"first_tx_timestamp\":\"1560772361\",\"last_tx_timestamp\":\"1644699734\",\"last_tx_balance_diff\":\"0.00000555\"},{\"id\":\"5\",\"address\":\"bc1qazcm763858nkj2dj986etajv6wquslv8uxwczt\",\"balance\":\"94643.29910722\",\"last_30_days_tx_count\":\"0\",\"total_tx_count\":\"35\",\"first_tx_timestamp\":\"1643688864\",\"last_tx_timestamp\":\"1646503071\",\"last_tx_balance_diff\":\"0.00000911\"},{\"id\":\"6\",\"address\":\"37XuVSEpWW4trkfmvWzegTHQt7BdktSKUs\",\"balance\":\"94505.34101578\",\"last_30_days_tx_count\":\"9\",\"total_tx_count\":\"132\",\"first_tx_timestamp\":\"1567740605\",\"last_tx_timestamp\":\"1646963921\",\"last_tx_balance_diff\":\"0.00032897\"},{\"id\":\"7\",\"address\":\"3M219KR5vEneNb47ewrPfWyb5jQ2DjxRP6\",\"balance\":\"87258.00000777\",\"last_30_days_tx_count\":\"1\",\"total_tx_count\":\"219\",\"first_tx_timestamp\":\"1542118262\",\"last_tx_timestamp\":\"1646416956\",\"last_tx_balance_diff\":\"0.00000777\"},{\"id\":\"8\",\"address\":\"38UmuUqPCrFmQo4khkomQwZ4VbY2nZMJ67\",\"balance\":\"84067.01850530\",\"last_30_days_tx_count\":\"2\",\"total_tx_count\":\"273\",\"first_tx_timestamp\":\"1457994001\",\"last_tx_timestamp\":\"1645987195\",\"last_tx_balance_diff\":\"0.00076740\"},{\"id\":\"9\",\"address\":\"1FeexV6bAHb8ybZjqQMjJrcCrHGW9sb6uF\",\"balance\":\"79957.21767036\",\"last_30_days_tx_count\":\"7\",\"total_tx_count\":\"411\",\"first_tx_timestamp\":\"1298975179\",\"last_tx_timestamp\":\"1646503071\",\"last_tx_balance_diff\":\"0.00000911\"},{\"id\":\"10\",\"address\":\"bc1qa5wkgaew2dkv56kfvj49j0av5nml45x9ek9hz6\",\"balance\":\"69370.17657325\",\"last_30_days_tx_count\":\"0\",\"total_tx_count\":\"44\",\"first_tx_timestamp\":\"1604439099\",\"last_tx_timestamp\":\"1646754974\",\"last_tx_balance_diff\":\"0.00000777\"},{\"id\":\"11\",\"address\":\"3Kzh9qAqVWQhEsfQz7zEQL1EuSx5tyNLNS\",\"balance\":\"63890.94842113\",\"last_30_days_tx_count\":\"49\",\"total_tx_count\":\"1283\",\"first_tx_timestamp\":\"1440462500\",\"last_tx_timestamp\":\"1647298656\",\"last_tx_balance_diff\":\"-350.00093200\"},{\"id\":\"12\",\"address\":\"3FpYfDGJSdkMAvZvCrwPHDqdmGqUkTsJys\",\"balance\":\"55110.13372238\",\"last_30_days_tx_count\":\"150\",\"total_tx_count\":\"2948\",\"first_tx_timestamp\":\"1592458367\",\"last_tx_timestamp\":\"1647238291\",\"last_tx_balance_diff\":\"51.05594176\"},{\"id\":\"13\",\"address\":\"1LdRcdxfbSnmCYYNdeYpUnztiYzVfBEQeC\",\"balance\":\"53880.06074551\",\"last_30_days_tx_count\":\"2\",\"total_tx_count\":\"132\",\"first_tx_timestamp\":\"1401230982\",\"last_tx_timestamp\":\"1646322552\",\"last_tx_balance_diff\":\"0.00000639\"},{\"id\":\"14\",\"address\":\"1AC4fMwgY8j9onSbXEWeH6Zan8QGMSdmtA\",\"balance\":\"51830.35999095\",\"last_30_days_tx_count\":\"1\",\"total_tx_count\":\"104\",\"first_tx_timestamp\":\"1515336318\",\"last_tx_timestamp\":\"1645111881\",\"last_tx_balance_diff\":\"0.00000546\"},{\"id\":\"15\",\"address\":\"bc1qd4ysezhmypwty5dnw7c8nqy5h5nxg0xqsvaefd0qn5kq32vwnwqqgv4rzr\",\"balance\":\"45600.00010000\",\"last_30_days_tx_count\":\"0\",\"total_tx_count\":\"13\",\"first_tx_timestamp\":\"1633955955\",\"last_tx_timestamp\":\"1646427456\",\"last_tx_balance_diff\":\"5100.00000000\"},{\"id\":\"16\",\"address\":\"1LruNZjwamWJXThX2Y8C2d47QqhAkkc5os\",\"balance\":\"44000.08618272\",\"last_30_days_tx_count\":\"1\",\"total_tx_count\":\"38\",\"first_tx_timestamp\":\"1574608280\",\"last_tx_timestamp\":\"1645111881\",\"last_tx_balance_diff\":\"0.00000546\"},{\"id\":\"17\",\"address\":\"3Gpex6g5FPmYWm26myFq7dW12ntd8zMcCY\",\"balance\":\"40013.96039099\",\"last_30_days_tx_count\":\"1\",\"total_tx_count\":\"8\",\"first_tx_timestamp\":\"1619716062\",\"last_tx_timestamp\":\"1645111946\",\"last_tx_balance_diff\":\"0.00000546\"},{\"id\":\"18\",\"address\":\"bc1q5shngj24323nsrmxv99st02na6srekfctt30ch\",\"balance\":\"40000.32768729\",\"last_30_days_tx_count\":\"0\",\"total_tx_count\":\"33\",\"first_tx_timestamp\":\"1556702430\",\"last_tx_timestamp\":\"1645112866\",\"last_tx_balance_diff\":\"0.00000546\"},{\"id\":\"19\",\"address\":\"3LQUu4v9z6KNch71j7kbj8GPeAGUo1FW6a\",\"balance\":\"37926.97744959\",\"last_30_days_tx_count\":\"0\",\"total_tx_count\":\"1\",\"first_tx_timestamp\":\"1635088493\",\"last_tx_timestamp\":\"1635088493\",\"last_tx_balance_diff\":\"37926.97744959\"},{\"id\":\"20\",\"address\":\"bc1q7ydrtdn8z62xhslqyqtyt38mm4e2c4h3mxjkug\",\"balance\":\"36000.41000054\",\"last_30_days_tx_count\":\"0\",\"total_tx_count\":\"6\",\"first_tx_timestamp\":\"1627394065\",\"last_tx_timestamp\":\"1627468109\",\"last_tx_balance_diff\":\"19199.99997995\"},{\"id\":\"21\",\"address\":\"159QgP4Ewvadjc4HDpaaR6pir2R4ZfzVfQ\",\"balance\":\"33915.00117745\",\"last_30_days_tx_count\":\"0\",\"total_tx_count\":\"60\",\"first_tx_timestamp\":\"1629708944\",\"last_tx_timestamp\":\"1642231491\",\"last_tx_balance_diff\":\"-500.00000000\"},{\"id\":\"22\",\"address\":\"3LCGsSmfr24demGvriN4e3ft8wEcDuHFqh\",\"balance\":\"33863.48196810\",\"last_30_days_tx_count\":\"152\",\"total_tx_count\":\"4256\",\"first_tx_timestamp\":\"1569899370\",\"last_tx_timestamp\":\"1647265000\",\"last_tx_balance_diff\":\"2.72039208\"},{\"id\":\"23\",\"address\":\"3FupZp77ySr7jwoLYEJ9mwzJpvoNBXsBnE\",\"balance\":\"33753.65979247\",\"last_30_days_tx_count\":\"22\",\"total_tx_count\":\"283\",\"first_tx_timestamp\":\"1613586742\",\"last_tx_timestamp\":\"1647295649\",\"last_tx_balance_diff\":\"-45.00000000\"},{\"id\":\"24\",\"address\":\"12XqeqZRVkBDgmPLVY4ZC6Y4ruUUEug8Fx\",\"balance\":\"32354.00000564\",\"last_30_days_tx_count\":\"0\",\"total_tx_count\":\"14\",\"first_tx_timestamp\":\"1607864508\",\"last_tx_timestamp\":\"1626368555\",\"last_tx_balance_diff\":\"0.00000547\"},{\"id\":\"25\",\"address\":\"bc1qm34lsc65zpw79lxes69zkqmk6ee3ewf0j77s3h\",\"balance\":\"34681.00684184\",\"last_30_days_tx_count\":\"0\",\"total_tx_count\":\"168876\",\"first_tx_timestamp\":\"1633677284\",\"last_tx_timestamp\":\"1647333691\",\"last_tx_balance_diff\":\"-7.92488866\"},{\"id\":\"26\",\"address\":\"bc1qx9t2l3pyny2spqpqlye8svce70nppwtaxwdrp4\",\"balance\":\"31643.38219915\",\"last_30_days_tx_count\":\"0\",\"total_tx_count\":\"4722\",\"first_tx_timestamp\":\"1589245063\",\"last_tx_timestamp\":\"1642492722\",\"last_tx_balance_diff\":\"6.27456118\"},{\"id\":\"27\",\"address\":\"3FHNBLobJnbCTFTVakh5TXmEneyf5PT61B\",\"balance\":\"31275.34585966\",\"last_30_days_tx_count\":\"0\",\"total_tx_count\":\"2\",\"first_tx_timestamp\":\"1627309553\",\"last_tx_timestamp\":\"1644517201\",\"last_tx_balance_diff\":\"0.00050000\"},{\"id\":\"28\",\"address\":\"385cR5DM96n1HvBDMzLHPYcw89fZAXULJP\",\"balance\":\"31201.86148241\",\"last_30_days_tx_count\":\"2\",\"total_tx_count\":\"123\",\"first_tx_timestamp\":\"1545354985\",\"last_tx_timestamp\":\"1647019462\",\"last_tx_balance_diff\":\"-4900.00214000\"},{\"id\":\"29\",\"address\":\"12ib7dApVFvg82TXKycWBNpN8kFyiAN1dr\",\"balance\":\"31000.07042388\",\"last_30_days_tx_count\":\"0\",\"total_tx_count\":\"137\",\"first_tx_timestamp\":\"1273738958\",\"last_tx_timestamp\":\"1637134702\",\"last_tx_balance_diff\":\"0.00010096\"},{\"id\":\"30\",\"address\":\"14m3sd9HCCFJW4LymahJCKMabAxTK4DAqW\",\"balance\":\"27671.99950000\",\"last_30_days_tx_count\":\"39\",\"total_tx_count\":\"917\",\"first_tx_timestamp\":\"1583724010\",\"last_tx_timestamp\":\"1647324298\",\"last_tx_balance_diff\":\"-2130.00000000\"},{\"id\":\"31\",\"address\":\"19iqYbeATe4RxghQZJnYVFU4mjUUu76EA6\",\"balance\":\"28846.54677492\",\"last_30_days_tx_count\":\"3037\",\"total_tx_count\":\"56400\",\"first_tx_timestamp\":\"1589346697\",\"last_tx_timestamp\":\"1647333128\",\"last_tx_balance_diff\":\"-1.82531229\"},{\"id\":\"32\",\"address\":\"12tkqA9xSoowkzoERHMWNKsTey55YEBqkv\",\"balance\":\"28151.05856295\",\"last_30_days_tx_count\":\"1\",\"total_tx_count\":\"137\",\"first_tx_timestamp\":\"1270507627\",\"last_tx_timestamp\":\"1645830346\",\"last_tx_balance_diff\":\"0.00002563\"},{\"id\":\"33\",\"address\":\"17MWdxfjPYP2PYhdy885QtihfbW181r1rn\",\"balance\":\"24495.35042970\",\"last_30_days_tx_count\":\"0\",\"total_tx_count\":\"12\",\"first_tx_timestamp\":\"1607863854\",\"last_tx_timestamp\":\"1620973701\",\"last_tx_balance_diff\":\"0.00000547\"},{\"id\":\"34\",\"address\":\"1aXzEKiDJKzkPxTZy9zGc3y1nCDwDPub2\",\"balance\":\"24180.51758452\",\"last_30_days_tx_count\":\"0\",\"total_tx_count\":\"224\",\"first_tx_timestamp\":\"1470306579\",\"last_tx_timestamp\":\"1644521408\",\"last_tx_balance_diff\":\"250.00000000\"},{\"id\":\"35\",\"address\":\"19D5J8c59P2bAkWKvxSYw8scD3KUNWoZ1C\",\"balance\":\"23969.00154245\",\"last_30_days_tx_count\":\"0\",\"total_tx_count\":\"15\",\"first_tx_timestamp\":\"1607859184\",\"last_tx_timestamp\":\"1642968329\",\"last_tx_balance_diff\":\"0.00000575\"},{\"id\":\"36\",\"address\":\"bc1qjysjfd9t9aspttpjqzv68k0ydpe7pvyd5vlyn37868473lell5tqkz456m\",\"balance\":\"22992.44907579\",\"last_30_days_tx_count\":\"0\",\"total_tx_count\":\"53\",\"first_tx_timestamp\":\"1636897083\",\"last_tx_timestamp\":\"1646883469\",\"last_tx_balance_diff\":\"550.59540855\"},{\"id\":\"37\",\"address\":\"1932eKraQ3Ad9MeNBHb14WFQbNrLaKeEpT\",\"balance\":\"22899.99043553\",\"last_30_days_tx_count\":\"0\",\"total_tx_count\":\"29\",\"first_tx_timestamp\":\"1584451680\",\"last_tx_timestamp\":\"1623614836\",\"last_tx_balance_diff\":\"0.00000547\"},{\"id\":\"38\",\"address\":\"1MDq7zyLw6oKichbFiDDZ3aaK59byc6CT8\",\"balance\":\"22400.00017757\",\"last_30_days_tx_count\":\"0\",\"total_tx_count\":\"78\",\"first_tx_timestamp\":\"1538145830\",\"last_tx_timestamp\":\"1637135432\",\"last_tx_balance_diff\":\"0.00010096\"},{\"id\":\"39\",\"address\":\"3JZq4atUahhuA9rLhXLMhhTo133J9rF97j\",\"balance\":\"21423.60750800\",\"last_30_days_tx_count\":\"87\",\"total_tx_count\":\"3565\",\"first_tx_timestamp\":\"1541189684\",\"last_tx_timestamp\":\"1647314728\",\"last_tx_balance_diff\":\"102.44417000\"},{\"id\":\"40\",\"address\":\"bc1qtw30nantkrh7y5ue73gm4mmy0zezfqxug3psr94sd967qwg7f76scfmr9p\",\"balance\":\"20136.23538292\",\"last_30_days_tx_count\":\"0\",\"total_tx_count\":\"167\",\"first_tx_timestamp\":\"1616346771\",\"last_tx_timestamp\":\"1616355172\",\"last_tx_balance_diff\":\"124.26000000\"},{\"id\":\"41\",\"address\":\"3HSMPBUuAPQf6CU5B3qa6fALrrZXswHaF1\",\"balance\":\"20096.26950426\",\"last_30_days_tx_count\":\"8\",\"total_tx_count\":\"146\",\"first_tx_timestamp\":\"1617231028\",\"last_tx_timestamp\":\"1647041278\",\"last_tx_balance_diff\":\"-284.54926167\"},{\"id\":\"42\",\"address\":\"17rm2dvb439dZqyMe2d4D6AQJSgg6yeNRn\",\"balance\":\"20008.00192617\",\"last_30_days_tx_count\":\"0\",\"total_tx_count\":\"63\",\"first_tx_timestamp\":\"1490709559\",\"last_tx_timestamp\":\"1622167306\",\"last_tx_balance_diff\":\"0.00000547\"},{\"id\":\"43\",\"address\":\"1PeizMg76Cf96nUQrYg8xuoZWLQozU5zGW\",\"balance\":\"19414.43070193\",\"last_30_days_tx_count\":\"0\",\"total_tx_count\":\"96\",\"first_tx_timestamp\":\"1279973771\",\"last_tx_timestamp\":\"1630894743\",\"last_tx_balance_diff\":\"0.00000546\"},{\"id\":\"44\",\"address\":\"bc1q5pucatprjrqltdp58f92mhqkfuvwpa43vhsjwpxlryude0plzyhqjkqazp\",\"balance\":\"19263.15783200\",\"last_30_days_tx_count\":\"0\",\"total_tx_count\":\"103\",\"first_tx_timestamp\":\"1610529436\",\"last_tx_timestamp\":\"1646381538\",\"last_tx_balance_diff\":\"-8000.00003972\"},{\"id\":\"45\",\"address\":\"1CEHpeteegRks3L2co2usFAT8GTuX68MG\",\"balance\":\"19052.71271755\",\"last_30_days_tx_count\":\"4\",\"total_tx_count\":\"4\",\"first_tx_timestamp\":\"1646785849\",\"last_tx_timestamp\":\"1647268721\",\"last_tx_balance_diff\":\"16.00000000\"},{\"id\":\"46\",\"address\":\"3DVJfEsDTPkGDvqPCLC41X85L1B1DQWDyh\",\"balance\":\"18904.11902923\",\"last_30_days_tx_count\":\"0\",\"total_tx_count\":\"192\",\"first_tx_timestamp\":\"1548178688\",\"last_tx_timestamp\":\"1643758418\",\"last_tx_balance_diff\":\"-2.14561659\"},{\"id\":\"47\",\"address\":\"3K5dmrkBMS8ZVgERMLwiw7PJuG8GWTbo8e\",\"balance\":\"18600.04653628\",\"last_30_days_tx_count\":\"0\",\"total_tx_count\":\"1\",\"first_tx_timestamp\":\"1635900046\",\"last_tx_timestamp\":\"1635900046\",\"last_tx_balance_diff\":\"18600.04653628\"},{\"id\":\"48\",\"address\":\"3H5JTt42K7RmZtromfTSefcMEFMMe18pMD\",\"balance\":\"16785.94812815\",\"last_30_days_tx_count\":\"0\",\"total_tx_count\":\"82\",\"first_tx_timestamp\":\"1545526238\",\"last_tx_timestamp\":\"1642182969\",\"last_tx_balance_diff\":\"0.00001000\"},{\"id\":\"49\",\"address\":\"34HpHYiyQwg69gFmCq2BGHjF1DZnZnBeBP\",\"balance\":\"16306.54651480\",\"last_30_days_tx_count\":\"0\",\"total_tx_count\":\"1\",\"first_tx_timestamp\":\"1634935789\",\"last_tx_timestamp\":\"1634935789\",\"last_tx_balance_diff\":\"16306.54651480\"},{\"id\":\"50\",\"address\":\"39gUvGynQ7Re3i15G3J2gp9DEB9LnLFPMN\",\"balance\":\"16192.30979442\",\"last_30_days_tx_count\":\"1\",\"total_tx_count\":\"177\",\"first_tx_timestamp\":\"1614174908\",\"last_tx_timestamp\":\"1645515147\",\"last_tx_balance_diff\":\"0.00065000\"}],\"coin\":\"btc\",\"total_count\":\"100\"}},\"err_code\":0,\"err_no\":0,\"message\":\"success\",\"status\":\"success\"}'''"
   ]
  },
  {
   "cell_type": "code",
   "execution_count": null,
   "metadata": {},
   "outputs": [],
   "source": [
    "s_dic = json.loads(s)\n",
    "\n",
    "data = s_dic['data']['btc']['list']\n",
    "# for item in data:\n",
    "#     print(item)\n"
   ]
  },
  {
   "cell_type": "code",
   "execution_count": null,
   "metadata": {},
   "outputs": [],
   "source": [
    "import csv\n",
    "\n",
    "\n",
    "def stamp2time(timestamp):\n",
    "    time_local = time.localtime(int(timestamp))\n",
    "    dt = time.strftime(\"%Y-%m-%d %H:%M:%S\", time_local)\n",
    "    return dt\n",
    "\n",
    "\n",
    "csvfile = 'btc.csv'\n",
    "\n",
    "with open(csvfile,'w', newline='', encoding='utf-8') as f:\n",
    "    writer = csv.writer(f)\n",
    "    writer.writerow(['排名','地址','余额','交易总数','最新转账余额','最新转账时间'])\n",
    "\n",
    "    for item in data:\n",
    "        item_dic = item\n",
    "        writer.writerow([\n",
    "            item_dic['id'], item_dic['address'], item_dic['balance'],\n",
    "            item_dic['total_tx_count'], item_dic['last_tx_balance_diff'], stamp2time(item_dic['last_tx_timestamp'])\n",
    "        ])\n"
   ]
  },
  {
   "cell_type": "code",
   "execution_count": 29,
   "metadata": {},
   "outputs": [
    {
     "name": "stdout",
     "output_type": "stream",
     "text": [
      "2022-03-24 16:46:15\n"
     ]
    }
   ],
   "source": [
    "import time\n",
    "\n",
    "timestamp = 1648111575\n",
    "time_local = time.localtime(timestamp)\n",
    "dt = time.strftime(\"%Y-%m-%d %H:%M:%S\", time_local)\n",
    "print(dt)\n"
   ]
  },
  {
   "cell_type": "code",
   "execution_count": null,
   "metadata": {},
   "outputs": [],
   "source": [
    "import json, requests, time, csv\n",
    "\n",
    "\n",
    "def stamp2time(timestamp):\n",
    "    time_local = time.localtime(int(timestamp))\n",
    "    dt = time.strftime(\"%Y-%m-%d %H:%M:%S\", time_local)\n",
    "    return dt\n",
    "\n",
    "\n",
    "def url2csv(url, csvfile = 'btc.csv'):\n",
    "    headers = {\n",
    "        'User-Agent':\n",
    "        'Mozilla/5.0 (Windows NT 10.0; Win64; x64) AppleWebKit/537.36 (KHTML, like Gecko) Chrome/97.0.4692.71 Safari/537.36'\n",
    "    }\n",
    "    respone = requests.get(url=url, headers=headers)\n",
    "    respone_dic = json(respone.text)\n",
    "    data = respone_dic['data']['btc']['list']\n",
    "\n",
    "    with open(csvfile, 'w', newline='', encoding='utf-8') as f:\n",
    "        writer = csv.writer(f)\n",
    "        writer.writerow(['排名', '地址', '余额', '交易总数', '最新转账余额', '最新转账时间'])\n",
    "\n",
    "        for item in data:\n",
    "            item_dic = item\n",
    "            writer.writerow([\n",
    "                item_dic['id'], item_dic['address'], item_dic['balance'],\n",
    "                item_dic['total_tx_count'], item_dic['last_tx_balance_diff'],\n",
    "                stamp2time(item_dic['last_tx_timestamp'])\n",
    "            ])\n"
   ]
  },
  {
   "cell_type": "code",
   "execution_count": null,
   "metadata": {},
   "outputs": [],
   "source": [
    "urls = [\n",
    "    'https://explorer.api.btc.com/stats/address/rich/top?app_a=S2Q4QUljMHEwNzNoMAI5XdXXMAgwqxia4P8VScnvddXEG5EguXvUEXk4ccTC&app_b=Kd8AIc0q073h0&nonce=DJI22151IXIC7512&timestamp=1648029293&coins=btc&max_count=1000&page=8&page_size=100&sign=3qMKa1b4vsnOsEHL60D3by7oHpu/3tY80Qg0B0hQGtg=',\n",
    "    'https://explorer.api.btc.com/stats/address/rich/top?app_a=S2Q4QUljMHEwNzNoMAI5XdXXMAgwqxia4P8VScnvddXEG5EguXvUEXk4ccTC&app_b=Kd8AIc0q073h0&nonce=DJI22151IXIC7512&timestamp=1648029315&coins=btc&max_count=1000&page=7&page_size=100&sign=nS+8l8t7pdJAr4JHy2xgw2gnqJGGVHzoHjuuF1jFCMs='\n",
    "]\n",
    "\n",
    "\n",
    "for i in range(10):\n",
    "    url2csv(urls[i], str(i)+'.csv')"
   ]
  },
  {
   "cell_type": "code",
   "execution_count": null,
   "metadata": {},
   "outputs": [],
   "source": [
    "import json, requests, time, random\n",
    "\n",
    "\n",
    "def get_data():\n",
    "    urls = ['https://api.yitaifang.com/index/accounts/?page='+str(x) for x in range(1,11)]\n",
    "    headers = {'User-Agent':'Mozilla/5.0 (Windows NT 10.0) AppleWebKit/537.36 (KHTML, like Gecko) Chrome/99.0.4844.82 Safari/537.36'}\n",
    "    res = []\n",
    "    for url in urls:\n",
    "        response = requests.get(url, headers=headers)\n",
    "        time.sleep(random.randint(5,7))\n",
    "        response_dic = json.loads(response.text)\n",
    "        data = response_dic['data']['result']\n",
    "        for item in data:\n",
    "            _temp_list = [item['address'], item['balance'], item['percentage'], item['transactions']]\n",
    "            res.append(_temp_list)\n",
    "\n",
    "    return res"
   ]
  },
  {
   "cell_type": "code",
   "execution_count": null,
   "metadata": {},
   "outputs": [],
   "source": [
    "res = get_data()"
   ]
  },
  {
   "cell_type": "code",
   "execution_count": null,
   "metadata": {},
   "outputs": [],
   "source": [
    "import json, requests, time, random\n",
    "import pandas as pd\n",
    "\n",
    "\n",
    "def get_data():\n",
    "    urls = [\n",
    "        'https://api.yitaifang.com/index/accounts/?page=' + str(x)\n",
    "        for x in range(1, 11)\n",
    "    ]\n",
    "    headers = {\n",
    "        'User-Agent':\n",
    "        'Mozilla/5.0 (Windows NT 10.0) AppleWebKit/537.36 (KHTML, like Gecko) Chrome/99.0.4844.82 Safari/537.36'\n",
    "    }\n",
    "    res = []\n",
    "    for url in urls:\n",
    "        response = requests.get(url, headers=headers)\n",
    "        time.sleep(random.randint(3, 5))\n",
    "        response_dic = json.loads(response.text)\n",
    "        data = response_dic['data']['result']\n",
    "        for item in data:\n",
    "            _temp_list = [\n",
    "                item['address'], item['balance'], item['percentage'],\n",
    "                item['transactions']\n",
    "            ]\n",
    "            res.append(_temp_list)\n",
    "\n",
    "    return res\n",
    "\n",
    "\n",
    "\n",
    "data = get_data()"
   ]
  },
  {
   "cell_type": "code",
   "execution_count": null,
   "metadata": {},
   "outputs": [],
   "source": [
    "columns = ['地址', '余额', '占比', '交易笔数']\n",
    "res = pd.DataFrame(columns=columns, data=data, index=[x for x in range(1,len(data)+1)])\n",
    "res.to_csv('bth.csv', encoding='utf-8')"
   ]
  },
  {
   "cell_type": "code",
   "execution_count": null,
   "metadata": {},
   "outputs": [],
   "source": [
    "import requests\n",
    "\n",
    "\n",
    "headers = {\n",
    "    'User-Agent':\n",
    "    'Mozilla/5.0 (Windows NT 10.0) AppleWebKit/537.36 (KHTML, like Gecko) Chrome/99.0.4844.82 Safari/537.36'\n",
    "}\n",
    "\n",
    "res = requests.get('https://www.yitaifang.com/largetxs/', headers=headers)\n"
   ]
  },
  {
   "cell_type": "code",
   "execution_count": null,
   "metadata": {},
   "outputs": [],
   "source": [
    "print(res)"
   ]
  },
  {
   "cell_type": "code",
   "execution_count": 32,
   "metadata": {},
   "outputs": [],
   "source": [
    "import json\n",
    "import requests\n",
    "\n",
    "headers = {\n",
    "    'User-Agent':\n",
    "    'Mozilla/5.0 (Windows NT 10.0) AppleWebKit/537.36 (KHTML, like Gecko) Chrome/99.0.4844.82 Safari/537.36'\n",
    "}\n",
    "\n",
    "res = requests.get('https://api.yitaifang.com/index/largetxs/?page=1', headers=headers)\n",
    "\n",
    "res_dic = json.loads(res.text)\n",
    "\n",
    "data = res_dic['data']['result']"
   ]
  },
  {
   "cell_type": "code",
   "execution_count": 33,
   "metadata": {},
   "outputs": [
    {
     "name": "stdout",
     "output_type": "stream",
     "text": [
      "2022-03-24 16:56:21 14448028 0xfdae86ae47d55012faaa341dd599be5332668352 0x4852253fb7ead342c5e547d889f5608f9ff30896 ETH 3049 243920.0\n",
      "2022-03-24 16:56:21 14448028 0xce8c214ce01a26bdba1f5e85a0c2edcb31196fa0 0x3a6e9baf47f9e5d525ce9dac9bd5849a285df680 ETH 3049 457350.0\n",
      "2022-03-24 16:56:10 14448027 0x9ed35fe1d84083cfe821f61a940a423c8e58713e 0xdac17f958d2ee523a2206206994597c13d831ec7 USDT 1.000000000000 100000.0\n",
      "2022-03-24 16:56:10 14448027 0x3cd751e6b0078be393132286c442345e5dc49699 0xdac17f958d2ee523a2206206994597c13d831ec7 USDT 1.000000000000 108651.107002\n",
      "2022-03-24 16:55:45 14448025 0xb275483694d627242e77b95630168da4aec5da83 0xdac17f958d2ee523a2206206994597c13d831ec7 USDT 1.000000000000 252182.34724\n",
      "2022-03-24 16:55:45 14448025 0x9696f59e4d72e237be84ffd425dcad154bf96976 0xdac17f958d2ee523a2206206994597c13d831ec7 USDT 1.000000000000 18299990.0\n",
      "2022-03-24 16:55:28 14448023 0x0639556f03714a74a5feeaf5736a4a64ff70d206 0x9917aebac603a53ba28994cf76b63b96d00da214 ETH 3049 152431.706\n",
      "2022-03-24 16:55:28 14448023 0x7e0616656934a09373b1e1114de2c20a77513d16 0xdac17f958d2ee523a2206206994597c13d831ec7 USDT 1.000000000000 100000.0\n",
      "2022-03-24 16:55:28 14448023 0xa9264494a92ced04747ac84fc9ca5a0b9549b491 0xb01cb49fe0d6d6e47edf3a072d15dfe73155331c ETH 3049 4558257.790847231\n",
      "2022-03-24 16:55:28 14448023 0x1582d7c6f01181603c4708af1cbafe113a78898c 0xdac17f958d2ee523a2206206994597c13d831ec7 USDT 1.000000000000 200000.0\n",
      "2022-03-24 16:55:09 14448022 0xb6aab2b026752a971f8944a6aed371b74e2bc4f8 0xdac17f958d2ee523a2206206994597c13d831ec7 USDT 1.000000000000 68819712.190585\n",
      "2022-03-24 16:55:09 14448022 0x11e82f3919c2d775269bb40dfad7ce093b7b47c2 0xc098b2a3aa256d2140208c3de6543aaef5cd3a94 ETH 3049 1524498.259499693\n",
      "2022-03-24 16:55:02 14448021 0x11b50686d3983c14c0d0972a5e46e38e0d9b2e14 0xc36442b4a4522e871399cd717abdd847ab11fe88 ETH 3049 602177.5\n",
      "2022-03-24 16:54:08 14448020 0x3cd751e6b0078be393132286c442345e5dc49699 0x6767526a362ec6c6b1df185478e4f01506b73ff3 ETH 3049 140254.0\n",
      "2022-03-24 16:54:08 14448020 0xed83db023e9fbfd29875b3fbb17a3c87da38fbfd 0x0016c0d0343e8f2c3a7b6a51606b84b1545ec606 ETH 3049 256581.42984999993\n",
      "2022-03-24 16:54:08 14448020 0xdfd5293d8e347dfe59e90efd55b2956a1343963d 0xdac17f958d2ee523a2206206994597c13d831ec7 USDT 1.000000000000 2470000.0\n",
      "2022-03-24 16:54:08 14448020 0x9810a1f8fd9364c0dd4f8c2855df77f421dce15e 0x0016c0d0343e8f2c3a7b6a51606b84b1545ec606 ETH 3049 625545.76419267\n",
      "2022-03-24 16:53:39 14448018 0x75e89d5979e4f6fba9f97c104c2f0afb3f1dcb88 0xcde38765c92444617dfe26aa8b411bc086834a4b ETH 3049 213411.70243267\n",
      "2022-03-24 16:53:39 14448018 0xa7efae728d2936e78bda97dc267687568dd593f3 0x11e82f3919c2d775269bb40dfad7ce093b7b47c2 ETH 3049 1524500.0\n",
      "2022-03-24 16:53:39 14448018 0xa69262ae9ae86f1eebdb63de3d639c37ac4bdb30 0xdac17f958d2ee523a2206206994597c13d831ec7 USDT 1.000000000000 1000000.0\n"
     ]
    }
   ],
   "source": [
    "def stamp2time(timestamp):\n",
    "    time_local = time.localtime(int(timestamp))\n",
    "    dt = time.strftime(\"%Y-%m-%d %H:%M:%S\", time_local)\n",
    "    return dt\n",
    "\n",
    "\n",
    "\n",
    "for item in data:\n",
    "    #交易时间，区块高度，发送方，接受方，币种，时价，转账量，价值\n",
    "\n",
    "    txTime = stamp2time(item['timestamp'])\n",
    "    blockNumber = item['blockNumber']\n",
    "    txFrom = item['from']\n",
    "    txTo = item['to']\n",
    "\n",
    "    try:\n",
    "        txType = item['internalTransaction'][0]['symbol']\n",
    "    except:\n",
    "        txType = \"ETH\"\n",
    "\n",
    "    try:\n",
    "        txTimePrice = item['internalTransaction'][0]['price']\n",
    "    except:\n",
    "        txTimePrice= item['price']\n",
    "\n",
    "    try:\n",
    "        txNum = item['internalTransaction'][0]['value']\n",
    "    except:\n",
    "        txNum = item['value']\n",
    "\n",
    "    txValue = float(txNum) * float(txTimePrice)\n",
    "\n",
    "    print(txTime, blockNumber, txFrom, txTo, txType, txTimePrice, txValue)\n"
   ]
  }
 ],
 "metadata": {
  "interpreter": {
   "hash": "cc5f70855ac006f3de45a3cc3b9e7d8d53845e50458809cb162b0174266dec97"
  },
  "kernelspec": {
   "display_name": "Python 3.9.7 ('base')",
   "language": "python",
   "name": "python3"
  },
  "language_info": {
   "codemirror_mode": {
    "name": "ipython",
    "version": 3
   },
   "file_extension": ".py",
   "mimetype": "text/x-python",
   "name": "python",
   "nbconvert_exporter": "python",
   "pygments_lexer": "ipython3",
   "version": "3.9.7"
  },
  "orig_nbformat": 4
 },
 "nbformat": 4,
 "nbformat_minor": 2
}
