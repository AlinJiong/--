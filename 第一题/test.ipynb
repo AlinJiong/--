{
 "cells": [
  {
   "cell_type": "code",
   "execution_count": 8,
   "metadata": {},
   "outputs": [
    {
     "name": "stdout",
     "output_type": "stream",
     "text": [
      "https://pbs.twimg.com/media/FN5f9_haAAI4rKu?format=jpg&name=small\n"
     ]
    }
   ],
   "source": [
    "import re\n",
    "\n",
    "\n",
    "s = 'https://pbs.twimg.com/media/FN5f9_haAAI4rKu?format=jpg&name=small'\n",
    "\n",
    "\n",
    "res = re.findall('https://.*?=small', s)[0]\n",
    "print(res)"
   ]
  },
  {
   "cell_type": "code",
   "execution_count": 3,
   "metadata": {},
   "outputs": [
    {
     "name": "stdout",
     "output_type": "stream",
     "text": [
      "<_io.BytesIO object at 0x062E0348>\n"
     ]
    }
   ],
   "source": [
    "import io, urllib\n",
    "\n",
    "\n",
    "\n",
    "imgUrl = 'https://tiebapic.baidu.com/forum/wh=120,120/sign=e54968c3d2dda144da5c64b38087fc93/0bd162d9f2d3572cf841500ccf13632763d0c344.jpg'\n",
    "image_data = io.BytesIO(urllib.request.urlopen(imgUrl).read())\n",
    "\n",
    "print(image_data)"
   ]
  },
  {
   "cell_type": "code",
   "execution_count": 5,
   "metadata": {},
   "outputs": [],
   "source": [
    "from openpyxl import load_workbook, Workbook\n",
    "from openpyxl.drawing.image import Image\n",
    "import io, urllib\n",
    "\n",
    "\n",
    "# def insertimg2excel(imgPath, excelPath):\n",
    "#     imgsize = (720 / 4, 1280 / 4)  # 设置一个图像缩小的比例\n",
    "#     wb = load_workbook(excelPath)\n",
    "#     ws = wb.active\n",
    "#     ws.column_dimensions['A'].width = imgsize[0] * 0.14  # 修改列A的宽\n",
    "\n",
    "#     img = Image(imgPath)  # 缩放图片\n",
    "#     img.width, img.height = imgsize\n",
    "\n",
    "#     ws.add_image(img, 'A1')  # 图片 插入 A1 的位置上\n",
    "#     ws.row_dimensions[1].height = imgsize[1] * 0.78  # 修改列第1行的宽\n",
    "\n",
    "#     wb.save('out.xlsx')  # 新的结果保存输出\n",
    "\n",
    "# if __name__ == '__main__':\n",
    "#     imgPath = './1.jpg'\n",
    "#     excelPath = './test.xlsx'\n",
    "#     insertimg2excel(imgPath, excelPath)\n",
    "\n",
    "\n",
    "def insertimg2excel():\n",
    "    wb = Workbook()\n",
    "    ws = wb.active\n",
    "   \n",
    "    # img = Image(imgPath)  # 缩放图片\n",
    "\n",
    "    imgUrl = 'https://tiebapic.baidu.com/forum/wh=120,120/sign=e54968c3d2dda144da5c64b38087fc93/0bd162d9f2d3572cf841500ccf13632763d0c344.jpg'\n",
    "    image_data = io.BytesIO(urllib.request.urlopen(imgUrl).read())\n",
    "    img = Image(image_data)\n",
    "    imgsize = (img.width, img.height)\n",
    "\n",
    "    ws.row_dimensions[1].height = imgsize[1]  # 修改列第1行的高度\n",
    "    \n",
    "    ws.add_image(img, 'A1')  # 图片 插入 A1 的位置上\n",
    "    wb.save('out.xlsx')  # 新的结果保存输出\n",
    "    wb.close()\n",
    "\n",
    "if __name__ == '__main__':\n",
    "    insertimg2excel()\n"
   ]
  },
  {
   "cell_type": "code",
   "execution_count": 29,
   "metadata": {},
   "outputs": [],
   "source": [
    "import requests\n",
    "\n",
    "url = 'https://airtable.com/shrP7uEmnxbv7dUEV/tbllShMbhc5jooPRb/viwymTshkJuerbyeT'\n",
    "respone = requests.get(url=url)\n",
    "\n",
    "print(respone.text)"
   ]
  },
  {
   "cell_type": "code",
   "execution_count": 3,
   "metadata": {},
   "outputs": [
    {
     "name": "stdout",
     "output_type": "stream",
     "text": [
      "None\n",
      "True\n"
     ]
    }
   ],
   "source": [
    "s = None\n",
    "\n",
    "print(str(s))\n",
    "print(str(s)=='None')"
   ]
  }
 ],
 "metadata": {
  "interpreter": {
   "hash": "cc5f70855ac006f3de45a3cc3b9e7d8d53845e50458809cb162b0174266dec97"
  },
  "kernelspec": {
   "display_name": "Python 3.9.7 ('base')",
   "language": "python",
   "name": "python3"
  },
  "language_info": {
   "codemirror_mode": {
    "name": "ipython",
    "version": 3
   },
   "file_extension": ".py",
   "mimetype": "text/x-python",
   "name": "python",
   "nbconvert_exporter": "python",
   "pygments_lexer": "ipython3",
   "version": "3.9.7"
  },
  "orig_nbformat": 4
 },
 "nbformat": 4,
 "nbformat_minor": 2
}
